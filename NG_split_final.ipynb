{
  "nbformat": 4,
  "nbformat_minor": 0,
  "metadata": {
    "colab": {
      "provenance": [],
      "gpuType": "T4"
    },
    "kernelspec": {
      "name": "python3",
      "display_name": "Python 3"
    },
    "language_info": {
      "name": "python"
    },
    "accelerator": "GPU"
  },
  "cells": [
    {
      "cell_type": "code",
      "source": [
        "from google.colab import drive\n",
        "import os\n",
        "import shutil\n",
        "import math\n",
        "from pathlib import Path\n",
        "\n",
        "# Mount Google Drive\n",
        "drive.mount('/content/drive')\n",
        "\n",
        "# Define source and destination paths\n",
        "src_base = '/content/drive/MyDrive/data_NG'\n",
        "dst_base = '/content/drive/MyDrive/data_NG_split'\n",
        "\n",
        "# Class information\n",
        "class_info = {\n",
        "    'CN7_NG': 85,\n",
        "    'BLDC-400-F_NG': 157,\n",
        "    'BLDC-400-B_NG': 210,\n",
        "    'G2_NG': 976\n",
        "}\n",
        "\n",
        "# Create destination directories\n",
        "splits = ['train', 'val', 'test']\n",
        "for split in splits:\n",
        "    for class_name in class_info.keys():\n",
        "        Path(f\"{dst_base}/{split}/{class_name}\").mkdir(parents=True, exist_ok=True)\n",
        "\n",
        "# Calculate split ratios (7:1:2)\n",
        "def calculate_split_counts(total_count):\n",
        "    train = math.floor(total_count * 0.7)\n",
        "    val = math.floor(total_count * 0.1)\n",
        "    test = total_count - train - val\n",
        "    return {'train': train, 'val': val, 'test': test}\n",
        "\n",
        "# Process each class\n",
        "for class_name, total_count in class_info.items():\n",
        "    # Get all files in the class directory\n",
        "    src_dir = os.path.join(src_base, class_name)\n",
        "    files = sorted(os.listdir(src_dir))\n",
        "\n",
        "    # Calculate split counts\n",
        "    split_counts = calculate_split_counts(total_count)\n",
        "\n",
        "    # Track current position in files list\n",
        "    current_idx = 0\n",
        "\n",
        "    # Copy files to respective splits\n",
        "    for split, count in split_counts.items():\n",
        "        for i in range(count):\n",
        "            src_file = os.path.join(src_dir, files[current_idx])\n",
        "            dst_file = os.path.join(dst_base, split, class_name, files[current_idx])\n",
        "            shutil.copy2(src_file, dst_file)\n",
        "            current_idx += 1\n",
        "\n",
        "# Print distribution summary\n",
        "print(\"\\nDataset Distribution Summary:\")\n",
        "print(\"-\" * 50)\n",
        "for split in splits:\n",
        "    print(f\"\\n{split.upper()} Set:\")\n",
        "    total_split = 0\n",
        "    for class_name in class_info.keys():\n",
        "        count = len(os.listdir(os.path.join(dst_base, split, class_name)))\n",
        "        original_ratio = class_info[class_name] / sum(class_info.values())\n",
        "        split_ratio = count / sum([len(os.listdir(os.path.join(dst_base, split, c)))\n",
        "                                 for c in class_info.keys()])\n",
        "        print(f\"{class_name}: {count} images (Original ratio: {original_ratio:.3f}, Split ratio: {split_ratio:.3f})\")\n",
        "        total_split += count\n",
        "    print(f\"Total {split} images: {total_split}\")"
      ],
      "metadata": {
        "colab": {
          "base_uri": "https://localhost:8080/"
        },
        "id": "pCBAzW_6vWGu",
        "outputId": "77f0cb2a-d2dd-4080-f116-c86051c0c9a2"
      },
      "execution_count": 2,
      "outputs": [
        {
          "output_type": "stream",
          "name": "stdout",
          "text": [
            "Drive already mounted at /content/drive; to attempt to forcibly remount, call drive.mount(\"/content/drive\", force_remount=True).\n",
            "\n",
            "Dataset Distribution Summary:\n",
            "--------------------------------------------------\n",
            "\n",
            "TRAIN Set:\n",
            "CN7_NG: 59 images (Original ratio: 0.060, Split ratio: 0.059)\n",
            "BLDC-400-F_NG: 109 images (Original ratio: 0.110, Split ratio: 0.109)\n",
            "BLDC-400-B_NG: 147 images (Original ratio: 0.147, Split ratio: 0.147)\n",
            "G2_NG: 683 images (Original ratio: 0.683, Split ratio: 0.684)\n",
            "Total train images: 998\n",
            "\n",
            "VAL Set:\n",
            "CN7_NG: 8 images (Original ratio: 0.060, Split ratio: 0.057)\n",
            "BLDC-400-F_NG: 15 images (Original ratio: 0.110, Split ratio: 0.106)\n",
            "BLDC-400-B_NG: 21 images (Original ratio: 0.147, Split ratio: 0.149)\n",
            "G2_NG: 97 images (Original ratio: 0.683, Split ratio: 0.688)\n",
            "Total val images: 141\n",
            "\n",
            "TEST Set:\n",
            "CN7_NG: 18 images (Original ratio: 0.060, Split ratio: 0.062)\n",
            "BLDC-400-F_NG: 33 images (Original ratio: 0.110, Split ratio: 0.114)\n",
            "BLDC-400-B_NG: 42 images (Original ratio: 0.147, Split ratio: 0.145)\n",
            "G2_NG: 196 images (Original ratio: 0.683, Split ratio: 0.678)\n",
            "Total test images: 289\n"
          ]
        }
      ]
    }
  ]
}